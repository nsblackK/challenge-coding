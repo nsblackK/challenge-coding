{
 "cells": [
  {
   "cell_type": "code",
   "execution_count": 3,
   "metadata": {},
   "outputs": [],
   "source": [
    "arr=[['A','B','C','D'],\n",
    "     ['E','F','G','H'],\n",
    "     ['I','J','K','L'],\n",
    "     ['M','N','O','P']]"
   ]
  },
  {
   "cell_type": "code",
   "execution_count": 19,
   "metadata": {},
   "outputs": [],
   "source": [
    "def diagonal(arr,x,y,vertical,horizontal):\n",
    "    global count\n",
    "    global bounce\n",
    "    last=0\n",
    "    if count>bounce:\n",
    "        return\n",
    "            \n",
    "    #down-right\n",
    "    if(vertical==0 and horizontal==1):\n",
    "        if y==0:\n",
    "            for i in range(1,len(arr)-x):\n",
    "                print(arr[x+i][y+i])\n",
    "                last=i\n",
    "            count+=1\n",
    "            diagonal(arr,x+last,y+last,1,1)\n",
    "        else:\n",
    "            for i in range(1,len(arr)-x-y):\n",
    "                print(arr[x+i][y+i])\n",
    "                last=i\n",
    "            count+=1\n",
    "            diagonal(arr,x+last,y+last,0,0)\n",
    "            \n",
    "    #up-right\n",
    "    if(vertical==1 and horizontal==1):\n",
    "        if y==0:\n",
    "            for i in range(1,x+1):\n",
    "                print(arr[x-i][y+i])\n",
    "                last=i\n",
    "            count+=1\n",
    "            diagonal(arr,x-last,y+last,0,1)\n",
    "        else:\n",
    "            for i in range(1,len(arr)-y):\n",
    "                print(arr[x-i][y+i])\n",
    "                last=i\n",
    "            count+=1\n",
    "            diagonal(arr,x-last,y+last,1,0)\n",
    "        \n",
    "    #down-left\n",
    "    if(vertical==0 and horizontal==0):\n",
    "        if y==len(arr)-1:\n",
    "            for i in range(1,len(arr)-x):\n",
    "                print(arr[x+i][y-i])\n",
    "                last=i\n",
    "            count+=1\n",
    "            diagonal(arr,x+last,y-last,1,0)\n",
    "        else:\n",
    "            for i in range(1,y+1):\n",
    "                print(arr[x+i][y-i])\n",
    "                last=i\n",
    "            count+=1\n",
    "            diagonal(arr,x+last,y-last,0,1)\n",
    "        \n",
    "    #up-left\n",
    "    if(vertical==1 and horizontal==0):\n",
    "        if y==len(arr)-1:\n",
    "            for i in range(1,x+1):\n",
    "                print(arr[x-i][y-i])\n",
    "                last=i\n",
    "            count+=1\n",
    "            diagonal(arr,x-last,y-last,0,0)\n",
    "        else:\n",
    "            for i in range(1,y+1):\n",
    "                print(arr[x-i][y-i])\n",
    "                last=i\n",
    "            count+=1\n",
    "            diagonal(arr,x-last,y-last,1,1)"
   ]
  },
  {
   "cell_type": "code",
   "execution_count": 21,
   "metadata": {},
   "outputs": [
    {
     "name": "stdout",
     "output_type": "stream",
     "text": [
      "Enter start element row: 0\n",
      "Enter start element column: 1\n",
      "Your start element is  B\n",
      "Enter vertical direction: 1 is up, 0 is down...0\n",
      "Enter horizontal direction: 1 is right, 0 is left...1\n",
      "How many bounces do you want? 2\n",
      "B\n",
      "G\n",
      "L\n",
      "O\n",
      "J\n",
      "E\n"
     ]
    }
   ],
   "source": [
    "count=0\n",
    "def printdia(arr,x,y,v,h):\n",
    "    print(arr[x][y])\n",
    "    diagonal(arr,x,y,v,h)\n",
    "x=int(input(\"Enter start element row: \"))\n",
    "y=int(input(\"Enter start element column: \"))\n",
    "print(\"Your start element is \", arr[x][y])\n",
    "v=int(input(\"Enter vertical direction: 1 is up, 0 is down...\"))\n",
    "h=int(input(\"Enter horizontal direction: 1 is right, 0 is left...\"))\n",
    "bounce=int(input(\"How many bounces do you want? \"))\n",
    "printdia(arr,x,y,v,h)"
   ]
  }
 ],
 "metadata": {
  "kernelspec": {
   "display_name": "Python 3",
   "language": "python",
   "name": "python3"
  },
  "language_info": {
   "codemirror_mode": {
    "name": "ipython",
    "version": 3
   },
   "file_extension": ".py",
   "mimetype": "text/x-python",
   "name": "python",
   "nbconvert_exporter": "python",
   "pygments_lexer": "ipython3",
   "version": "3.8.3"
  }
 },
 "nbformat": 4,
 "nbformat_minor": 4
}
