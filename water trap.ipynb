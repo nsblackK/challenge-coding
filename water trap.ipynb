{
 "cells": [
  {
   "cell_type": "code",
   "execution_count": 1,
   "metadata": {},
   "outputs": [],
   "source": [
    "a=[5,3,1,3,5]\n",
    "b=[3,1,3,1,3]\n",
    "c=[5,4,3,2,1]\n",
    "d=[1,2,3,4,5]\n",
    "e=[5,4,1,1,4]\n",
    "f=[4,1,1,4,5]\n",
    "g=[4,4,4,4,1]\n",
    "h=[4,4,4,1,4]"
   ]
  },
  {
   "cell_type": "code",
   "execution_count": 2,
   "metadata": {},
   "outputs": [],
   "source": [
    "def cutt(a):\n",
    "    m=max(a)\n",
    "    k=0\n",
    "    for i in a:\n",
    "        if i==m:\n",
    "            k+=1\n",
    "    if k==1:\n",
    "        index = a.index(m)\n",
    "        a[index]=m-1"
   ]
  },
  {
   "cell_type": "code",
   "execution_count": 3,
   "metadata": {},
   "outputs": [],
   "source": [
    "def trap(a):\n",
    "    cutt(a)\n",
    "    store=[]\n",
    "    \n",
    "    k=0\n",
    "    j=0\n",
    "    n=1\n",
    "    \n",
    "    for i in range(len(a)-1):\n",
    "        if a[0]!=a[0+i]:\n",
    "            break\n",
    "        else:\n",
    "            n=i+1\n",
    "            \n",
    "    m=a[n-1]\n",
    "    \n",
    "    for i in range(n,len(a)):\n",
    "        if a[i] <= m:\n",
    "            store.append(m-a[i])\n",
    "        if a[i] >= m:\n",
    "            m=a[i]\n",
    "            j+=1 \n",
    "    \n",
    "    if j==0:\n",
    "        store=[]\n",
    "    \n",
    "    print(\"water stored is \",sum(store),\" units\")"
   ]
  },
  {
   "cell_type": "code",
   "execution_count": 4,
   "metadata": {},
   "outputs": [
    {
     "name": "stdout",
     "output_type": "stream",
     "text": [
      "water stored is  8  units\n"
     ]
    }
   ],
   "source": [
    "trap(a)"
   ]
  },
  {
   "cell_type": "code",
   "execution_count": 5,
   "metadata": {},
   "outputs": [
    {
     "name": "stdout",
     "output_type": "stream",
     "text": [
      "water stored is  4  units\n"
     ]
    }
   ],
   "source": [
    "trap(b)"
   ]
  },
  {
   "cell_type": "code",
   "execution_count": 6,
   "metadata": {},
   "outputs": [
    {
     "name": "stdout",
     "output_type": "stream",
     "text": [
      "water stored is  0  units\n"
     ]
    }
   ],
   "source": [
    "trap(c)"
   ]
  },
  {
   "cell_type": "code",
   "execution_count": 7,
   "metadata": {},
   "outputs": [
    {
     "name": "stdout",
     "output_type": "stream",
     "text": [
      "water stored is  0  units\n"
     ]
    }
   ],
   "source": [
    "trap(d)"
   ]
  },
  {
   "cell_type": "code",
   "execution_count": 8,
   "metadata": {},
   "outputs": [
    {
     "name": "stdout",
     "output_type": "stream",
     "text": [
      "water stored is  6  units\n"
     ]
    }
   ],
   "source": [
    "trap(e)"
   ]
  },
  {
   "cell_type": "code",
   "execution_count": 9,
   "metadata": {},
   "outputs": [
    {
     "name": "stdout",
     "output_type": "stream",
     "text": [
      "water stored is  6  units\n"
     ]
    }
   ],
   "source": [
    "trap(f)"
   ]
  },
  {
   "cell_type": "code",
   "execution_count": 10,
   "metadata": {},
   "outputs": [
    {
     "name": "stdout",
     "output_type": "stream",
     "text": [
      "water stored is  0  units\n"
     ]
    }
   ],
   "source": [
    "trap(g)"
   ]
  },
  {
   "cell_type": "code",
   "execution_count": 11,
   "metadata": {},
   "outputs": [
    {
     "name": "stdout",
     "output_type": "stream",
     "text": [
      "water stored is  3  units\n"
     ]
    }
   ],
   "source": [
    "trap(h)"
   ]
  }
 ],
 "metadata": {
  "kernelspec": {
   "display_name": "Python 3",
   "language": "python",
   "name": "python3"
  },
  "language_info": {
   "codemirror_mode": {
    "name": "ipython",
    "version": 3
   },
   "file_extension": ".py",
   "mimetype": "text/x-python",
   "name": "python",
   "nbconvert_exporter": "python",
   "pygments_lexer": "ipython3",
   "version": "3.8.3"
  }
 },
 "nbformat": 4,
 "nbformat_minor": 4
}
