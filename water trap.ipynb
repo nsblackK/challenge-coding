{
 "cells": [
  {
   "cell_type": "code",
   "execution_count": 10,
   "metadata": {},
   "outputs": [],
   "source": [
    "a=[5,3,1,3,5,]\n",
    "b=[3,1,3,1,3]\n",
    "c=[5,4,3,2,1]\n",
    "d=[1,2,3,4,5]\n",
    "e=[5,4,1,1,4]\n",
    "f=[4,1,1,4,5]\n",
    "g=[4,4,4,4,1]\n",
    "h=[4,4,4,1,4]\n",
    "i=[0,1,0,2,1,0,1,3,2,1,2,1]\n",
    "j=[3,2,1,2,1]\n",
    "k=[5,4,1,4]"
   ]
  },
  {
   "cell_type": "code",
   "execution_count": 12,
   "metadata": {},
   "outputs": [],
   "source": [
    "#trim the extra part from top\n",
    "def cutt(a):\n",
    "    maax=max(a)\n",
    "    k=0\n",
    "    for i in a:\n",
    "        if i==maax:\n",
    "            k+=1\n",
    "    if k==1:\n",
    "        index = a.index(maax)\n",
    "        a[index]=maax-1"
   ]
  },
  {
   "cell_type": "code",
   "execution_count": 5,
   "metadata": {},
   "outputs": [],
   "source": [
    "#getting the last water holdable cavity in reverse order \n",
    "def last(a):\n",
    "    nextarr=[a[len(a)-1]]\n",
    "    last=len(a)-2\n",
    "    while a[last]<=a[len(a)-1]:\n",
    "        nextarr.append(a[last])\n",
    "        last-=1\n",
    "    nextarr.append(a[last])\n",
    "    return nextarr"
   ]
  },
  {
   "cell_type": "code",
   "execution_count": 3,
   "metadata": {},
   "outputs": [],
   "source": [
    "def trap(a):\n",
    "        cutt(a)\n",
    "        \n",
    "        store=[] #temporary storage of water\n",
    "\n",
    "        global water\n",
    "        changeCount=1\n",
    "        startingPosition=1\n",
    "        \n",
    "        #if starting elements are of same height, start from the last same height element.\n",
    "        for i in range(len(a)-1):\n",
    "            if a[0]!=a[0+i]:\n",
    "                break\n",
    "            else:\n",
    "                startingPosition=i+1\n",
    "     \n",
    "        pillar=a[startingPosition-1]\n",
    "        \n",
    "        #calculating water\n",
    "        for i in range(startingPosition,len(a)):\n",
    "            if a[i] <= pillar:\n",
    "                store.append(pillar-a[i])\n",
    "            #getting water trapped till next pillar\n",
    "            if a[i] >= pillar:\n",
    "                pillar=a[i]\n",
    "                water=water+sum(store)\n",
    "                store=[]\n",
    "                changeCount+=1 \n",
    "                \n",
    "        #when last element is smaller than the last pillar\n",
    "        if a[len(a)-1]<pillar:\n",
    "            nextarr=last(a)\n",
    "            trap(nextarr)\n",
    "\n",
    "        return water"
   ]
  },
  {
   "cell_type": "code",
   "execution_count": 21,
   "metadata": {},
   "outputs": [
    {
     "name": "stdout",
     "output_type": "stream",
     "text": [
      "Water traped is:  3\n"
     ]
    }
   ],
   "source": [
    "water=0\n",
    "t=trap(k)\n",
    "print(\"Water traped is: \",t)"
   ]
  },
  {
   "cell_type": "markdown",
   "metadata": {},
   "source": [
    "#### All functions inside class"
   ]
  },
  {
   "cell_type": "code",
   "execution_count": 25,
   "metadata": {},
   "outputs": [],
   "source": [
    "class Solution:\n",
    "    def cutt(self,a):\n",
    "        m=max(a)\n",
    "        k=0\n",
    "        for i in a:\n",
    "            if i==m:\n",
    "                k+=1\n",
    "        if k==1:\n",
    "            index = a.index(m)\n",
    "            a[index]=m-1\n",
    "\n",
    "    def last(self,a):\n",
    "        nextarr=[a[len(a)-1]]\n",
    "        last=len(a)-2\n",
    "        #print(\"last\", last)\n",
    "        while a[last]<=a[len(a)-1]:\n",
    "            #print(last)\n",
    "            nextarr.append(a[last])\n",
    "            last-=1\n",
    "        nextarr.append(a[last])\n",
    "        return nextarr\n",
    "\n",
    "    def trap(self,a):\n",
    "        cutt(a)\n",
    "        #print(a)\n",
    "        store=[]\n",
    "\n",
    "        global water\n",
    "        k=0\n",
    "        j=1\n",
    "        n=1\n",
    "\n",
    "        for i in range(len(a)-1):\n",
    "            if a[0]!=a[0+i]:\n",
    "                break\n",
    "            else:\n",
    "                n=i+1\n",
    "        #print(n)\n",
    "        m=a[n-1]\n",
    "        #print(\"m\", a.index(m))\n",
    "        minn=a[n]\n",
    "\n",
    "        for i in range(n,len(a)):\n",
    "            if a[i] <= m:\n",
    "                store.append(m-a[i])\n",
    "\n",
    "            if a[i] >= m:\n",
    "                m=a[i]\n",
    "                water=water+sum(store)\n",
    "                store=[]\n",
    "                j+=1 \n",
    "\n",
    "        if j==0:\n",
    "            store=[]\n",
    "\n",
    "\n",
    "        if a[len(a)-1]<m:\n",
    "            nextarr=last(a)\n",
    "            trap(nextarr)\n",
    "\n",
    "\n",
    "        #print(\"water stored is \",water)\n",
    "        return water"
   ]
  },
  {
   "cell_type": "code",
   "execution_count": 27,
   "metadata": {},
   "outputs": [
    {
     "name": "stdout",
     "output_type": "stream",
     "text": [
      "Water traped is:  3\n"
     ]
    }
   ],
   "source": [
    "nums1=[5,4,1,4] \n",
    "water=0\n",
    "a=Solution()\n",
    "t=a.trap(nums1)\n",
    "print(\"Water traped is: \",t)"
   ]
  },
  {
   "cell_type": "code",
   "execution_count": 5,
   "metadata": {},
   "outputs": [
    {
     "name": "stdout",
     "output_type": "stream",
     "text": [
      "Water traped is:  8\n"
     ]
    }
   ],
   "source": [
    "water=0\n",
    "t=trap(a)\n",
    "print(\"Water traped is: \",t)"
   ]
  },
  {
   "cell_type": "code",
   "execution_count": 6,
   "metadata": {},
   "outputs": [
    {
     "name": "stdout",
     "output_type": "stream",
     "text": [
      "Water traped is:  4\n"
     ]
    }
   ],
   "source": [
    "water=0\n",
    "t=trap(b)\n",
    "print(\"Water traped is: \",t)"
   ]
  },
  {
   "cell_type": "code",
   "execution_count": 7,
   "metadata": {},
   "outputs": [
    {
     "name": "stdout",
     "output_type": "stream",
     "text": [
      "Water traped is:  0\n"
     ]
    }
   ],
   "source": [
    "water=0\n",
    "t=trap(c)\n",
    "print(\"Water traped is: \",t)"
   ]
  },
  {
   "cell_type": "code",
   "execution_count": 8,
   "metadata": {},
   "outputs": [
    {
     "name": "stdout",
     "output_type": "stream",
     "text": [
      "Water traped is:  0\n"
     ]
    }
   ],
   "source": [
    "water=0\n",
    "t=trap(d)\n",
    "print(\"Water traped is: \",t)"
   ]
  },
  {
   "cell_type": "code",
   "execution_count": 9,
   "metadata": {},
   "outputs": [
    {
     "name": "stdout",
     "output_type": "stream",
     "text": [
      "Water traped is:  6\n"
     ]
    }
   ],
   "source": [
    "water=0\n",
    "t=trap(e)\n",
    "print(\"Water traped is: \",t)"
   ]
  },
  {
   "cell_type": "code",
   "execution_count": 10,
   "metadata": {},
   "outputs": [
    {
     "name": "stdout",
     "output_type": "stream",
     "text": [
      "Water traped is:  6\n"
     ]
    }
   ],
   "source": [
    "water=0\n",
    "t=trap(f)\n",
    "print(\"Water traped is: \",t)"
   ]
  },
  {
   "cell_type": "code",
   "execution_count": 11,
   "metadata": {},
   "outputs": [
    {
     "name": "stdout",
     "output_type": "stream",
     "text": [
      "Water traped is:  0\n"
     ]
    }
   ],
   "source": [
    "water=0\n",
    "t=trap(g)\n",
    "print(\"Water traped is: \",t)"
   ]
  },
  {
   "cell_type": "code",
   "execution_count": 12,
   "metadata": {},
   "outputs": [
    {
     "name": "stdout",
     "output_type": "stream",
     "text": [
      "Water traped is:  3\n"
     ]
    }
   ],
   "source": [
    "water=0\n",
    "t=trap(h)\n",
    "print(\"Water traped is: \",t)"
   ]
  },
  {
   "cell_type": "code",
   "execution_count": 13,
   "metadata": {},
   "outputs": [
    {
     "name": "stdout",
     "output_type": "stream",
     "text": [
      "Water traped is:  6\n"
     ]
    }
   ],
   "source": [
    "water=0\n",
    "t=trap(i)\n",
    "print(\"Water traped is: \",t)"
   ]
  },
  {
   "cell_type": "code",
   "execution_count": 14,
   "metadata": {},
   "outputs": [
    {
     "name": "stdout",
     "output_type": "stream",
     "text": [
      "Water traped is:  1\n"
     ]
    }
   ],
   "source": [
    "water=0\n",
    "t=trap(j)\n",
    "print(\"Water traped is: \",t)"
   ]
  },
  {
   "cell_type": "code",
   "execution_count": 29,
   "metadata": {},
   "outputs": [
    {
     "name": "stdout",
     "output_type": "stream",
     "text": [
      "Water traped is:  3\n"
     ]
    }
   ],
   "source": [
    "water=0\n",
    "t=trap(k)\n",
    "print(\"Water traped is: \",t)"
   ]
  },
  {
   "cell_type": "markdown",
   "metadata": {},
   "source": [
    "#### One Function in Class"
   ]
  },
  {
   "cell_type": "code",
   "execution_count": 30,
   "metadata": {},
   "outputs": [],
   "source": [
    "class Solution1:\n",
    "\n",
    "    def trap(self,a):\n",
    "        #cutt\n",
    "        m=max(a)\n",
    "        k=0\n",
    "        for i in a:\n",
    "            if i==m:\n",
    "                k+=1\n",
    "        if k==1:\n",
    "            index = a.index(m)\n",
    "            a[index]=m-1\n",
    "            \n",
    "            \n",
    "        store=[]\n",
    "\n",
    "        global water\n",
    "        k=0\n",
    "        j=1\n",
    "        n=1\n",
    "\n",
    "        for i in range(len(a)-1):\n",
    "            if a[0]!=a[0+i]:\n",
    "                break\n",
    "            else:\n",
    "                n=i+1\n",
    "        #print(n)\n",
    "        m=a[n-1]\n",
    "        #print(\"m\", a.index(m))\n",
    "        minn=a[n]\n",
    "\n",
    "        for i in range(n,len(a)):\n",
    "            if a[i] <= m:\n",
    "                store.append(m-a[i])\n",
    "\n",
    "            if a[i] >= m:\n",
    "                m=a[i]\n",
    "                water=water+sum(store)\n",
    "                store=[]\n",
    "                j+=1 \n",
    "\n",
    "        if j==0:\n",
    "            store=[]\n",
    "\n",
    "\n",
    "        if a[len(a)-1]<m:\n",
    "            nextarr=[a[len(a)-1]]\n",
    "            last=len(a)-2\n",
    "            while a[last]<=a[len(a)-1]:\n",
    "                nextarr.append(a[last])\n",
    "                last-=1\n",
    "            nextarr.append(a[last])\n",
    "            trap(nextarr)\n",
    "\n",
    "\n",
    "        #print(\"water stored is \",water)\n",
    "        return water"
   ]
  },
  {
   "cell_type": "code",
   "execution_count": 31,
   "metadata": {},
   "outputs": [
    {
     "name": "stdout",
     "output_type": "stream",
     "text": [
      "Water traped is:  3\n"
     ]
    }
   ],
   "source": [
    "nums1=[5,4,1,4] \n",
    "water=0\n",
    "a=Solution1()\n",
    "t=a.trap(nums1)\n",
    "print(\"Water traped is: \",t)"
   ]
  }
 ],
 "metadata": {
  "kernelspec": {
   "display_name": "Python 3",
   "language": "python",
   "name": "python3"
  },
  "language_info": {
   "codemirror_mode": {
    "name": "ipython",
    "version": 3
   },
   "file_extension": ".py",
   "mimetype": "text/x-python",
   "name": "python",
   "nbconvert_exporter": "python",
   "pygments_lexer": "ipython3",
   "version": "3.8.3"
  }
 },
 "nbformat": 4,
 "nbformat_minor": 4
}
